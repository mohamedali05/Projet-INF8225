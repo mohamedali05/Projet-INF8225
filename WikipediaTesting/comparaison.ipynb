{
 "cells": [
  {
   "cell_type": "code",
   "execution_count": 4,
   "metadata": {},
   "outputs": [],
   "source": [
    "import pandas as pd\n",
    "import string\n",
    "from nltk.translate.bleu_score import sentence_bleu, SmoothingFunction\n",
    "\n",
    "def normalize(text):\n",
    "    if not isinstance(text, str):\n",
    "        text = str(text) if text is not None else \"\"\n",
    "    text = text.lower().translate(str.maketrans('', '', string.punctuation)).strip()\n",
    "    return text\n",
    "\n",
    "def evaluate_bleu_csv(path_csv, bleu_type=1):\n",
    "    df = pd.read_csv(path_csv)\n",
    "\n",
    "    references = [normalize(ans).split() for ans in df[\"answer\"]]\n",
    "    candidates = [normalize(ans).split() for ans in df[\"generated_answer\"]]\n",
    "\n",
    "    weights = (1.0, 0.0, 0.0, 0.0) if bleu_type == 1 else (0.5, 0.5, 0.0, 0.0)\n",
    "\n",
    "    smoothie = SmoothingFunction().method4\n",
    "    bleu_scores = [\n",
    "        sentence_bleu([ref], cand, weights=weights, smoothing_function=smoothie)\n",
    "        for ref, cand in zip(references, candidates)\n",
    "    ]\n",
    "\n",
    "    return sum(bleu_scores) / len(bleu_scores)\n",
    "\n",
    "def evaluate_exact_match_csv(path_csv):\n",
    "    df = pd.read_csv(path_csv)\n",
    "\n",
    "    def norm(s):\n",
    "        if not isinstance(s, str):\n",
    "            s = str(s) if s is not None else \"\"\n",
    "        return s.lower().translate(str.maketrans('', '', string.punctuation)).strip()\n",
    "\n",
    "    refs = df[\"answer\"].fillna(\"\").astype(str).apply(norm)\n",
    "    preds = df[\"generated_answer\"].fillna(\"\").astype(str).apply(norm)\n",
    "\n",
    "    exact_match = (refs == preds).sum() / len(refs)\n",
    "    return exact_match"
   ]
  },
  {
   "cell_type": "code",
   "execution_count": null,
   "metadata": {},
   "outputs": [
    {
     "name": "stdout",
     "output_type": "stream",
     "text": [
      "[SIMPLE] BLEU-1: 0.580 | BLEU-2: 0.571\n",
      "[HyDE  ] BLEU-1: 0.564 | BLEU-2: 0.554\n",
      "[Fusion] BLEU-1: 0.550 | BLEU-2: 0.538\n"
     ]
    }
   ],
   "source": [
    "csv_simple = \"generated_responses_simple.csv\"\n",
    "csv_hyde = \"generated_responses_simple_HyDE.csv\"\n",
    "csv_fusion = \"generated_responses_simple_Fusion.csv\"\n",
    "\n",
    "bleu_simple_1 = evaluate_bleu_csv(csv_simple, bleu_type=1)\n",
    "bleu_simple_2 = evaluate_bleu_csv(csv_simple, bleu_type=2)\n",
    "\n",
    "bleu_hyde_1 = evaluate_bleu_csv(csv_hyde, bleu_type=1)\n",
    "bleu_hyde_2 = evaluate_bleu_csv(csv_hyde, bleu_type=2)\n",
    "\n",
    "bleu_fusion_1 = evaluate_bleu_csv(csv_fusion, bleu_type=1)\n",
    "bleu_fusion_2 = evaluate_bleu_csv(csv_fusion, bleu_type=2)\n",
    "\n",
    "print(f\"[SIMPLE] BLEU-1: {bleu_simple_1:.3f} | BLEU-2: {bleu_simple_2:.3f}\")\n",
    "print(f\"[HyDE  ] BLEU-1: {bleu_hyde_1:.3f} | BLEU-2: {bleu_hyde_2:.3f}\")\n",
    "print(f\"[Fusion] BLEU-1: {bleu_fusion_1:.3f} | BLEU-2: {bleu_fusion_2:.3f}\")"
   ]
  },
  {
   "cell_type": "code",
   "execution_count": 6,
   "metadata": {},
   "outputs": [
    {
     "name": "stdout",
     "output_type": "stream",
     "text": [
      "[SIMPLE] Exact Match : 0.527\n",
      "[HyDE  ] Exact Match : 0.510\n",
      "[Fusion] Exact Match : 0.490\n"
     ]
    }
   ],
   "source": [
    "csv_simple = \"generated_responses_simple.csv\"\n",
    "csv_hyde = \"generated_responses_simple_HyDE.csv\"\n",
    "csv_fusion = \"generated_responses_simple_Fusion.csv\"\n",
    "\n",
    "em_simple = evaluate_exact_match_csv(csv_simple)\n",
    "em_hyde = evaluate_exact_match_csv(csv_hyde)\n",
    "em_fusion = evaluate_exact_match_csv(csv_fusion)\n",
    "\n",
    "print(f\"[SIMPLE] Exact Match : {em_simple:.3f}\")\n",
    "print(f\"[HyDE  ] Exact Match : {em_hyde:.3f}\")\n",
    "print(f\"[Fusion] Exact Match : {em_fusion:.3f}\")"
   ]
  }
 ],
 "metadata": {
  "kernelspec": {
   "display_name": "rag_env",
   "language": "python",
   "name": "python3"
  },
  "language_info": {
   "codemirror_mode": {
    "name": "ipython",
    "version": 3
   },
   "file_extension": ".py",
   "mimetype": "text/x-python",
   "name": "python",
   "nbconvert_exporter": "python",
   "pygments_lexer": "ipython3",
   "version": "3.12.3"
  }
 },
 "nbformat": 4,
 "nbformat_minor": 2
}
